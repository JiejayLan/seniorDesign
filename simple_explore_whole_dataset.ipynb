{
  "cells": [
    {
      "metadata": {
        "_uuid": "8f2839f25d086af736a60e9eeb907d3b93b6e0e5",
        "_cell_guid": "b1076dfc-b9ad-4769-8c92-a6c4dae69d19",
        "trusted": true
      },
      "cell_type": "code",
      "source": "import bq_helper\nimport pandas as pd\nfrom bq_helper import BigQueryHelper\n# https://www.kaggle.com/sohier/introduction-to-the-bq-helper-package\nlibrary = bq_helper.BigQueryHelper(active_project=\"bigquery-public-data\",\n                                   dataset_name=\"libraries_io\")",
      "execution_count": null,
      "outputs": []
    },
    {
      "metadata": {},
      "cell_type": "markdown",
      "source": "### get 10k sample data of each plafform"
    },
    {
      "metadata": {
        "_uuid": "d629ff2d2480ee46fbb7e2d37f6b5fab8052498a",
        "_cell_guid": "79c7e3d0-c299-4dcb-8224-4455121ee9b0",
        "trusted": true
      },
      "cell_type": "code",
      "source": "github_query = \"\"\"\nSELECT\n    *\nFROM\n    `bigquery-public-data.libraries_io.repositories`\nWHERE\n    host_type = 'GitHub'\n    AND RAND() < 0.1\nLIMIT\n    10000;\n\"\"\"\n\ngithub_sample_df = library.query_to_pandas_safe(github_query, max_gb_scanned=6.8)",
      "execution_count": null,
      "outputs": []
    },
    {
      "metadata": {
        "trusted": true
      },
      "cell_type": "code",
      "source": "print(github_df.describe())\nprint(github_df.info())",
      "execution_count": null,
      "outputs": []
    },
    {
      "metadata": {
        "trusted": true
      },
      "cell_type": "code",
      "source": "bitbucket_query = \"\"\"\nSELECT\n    *\nFROM\n    `bigquery-public-data.libraries_io.repositories`\nWHERE\n    host_type = 'Bitbucket'\n    AND RAND() < 0.1\nLIMIT\n    10000;\n\"\"\"\n\nbitbucket_sample_df = library.query_to_pandas_safe(bitbucket_query, max_gb_scanned=6.8)",
      "execution_count": null,
      "outputs": []
    },
    {
      "metadata": {
        "trusted": true
      },
      "cell_type": "code",
      "source": "bitbucket_sample_df",
      "execution_count": null,
      "outputs": []
    },
    {
      "metadata": {
        "trusted": true
      },
      "cell_type": "code",
      "source": "gitlab_query = \"\"\"\nSELECT\n    *\nFROM\n    `bigquery-public-data.libraries_io.repositories`\nWHERE\n    host_type = 'GitLab'\n    AND RAND() < 0.1\nLIMIT\n    10000;\n\"\"\"\n\ngitlab_sample_df = library.query_to_pandas_safe(gitlab_query, max_gb_scanned=6.8)",
      "execution_count": null,
      "outputs": []
    },
    {
      "metadata": {
        "trusted": true
      },
      "cell_type": "code",
      "source": "gitlab_sample_df",
      "execution_count": null,
      "outputs": []
    },
    {
      "metadata": {},
      "cell_type": "markdown",
      "source": "### explore total dataset size of each platform\n### and average star number of github and gitlab, average fork number of three platforms"
    },
    {
      "metadata": {
        "trusted": true
      },
      "cell_type": "code",
      "source": "github_size_query = \"\"\"\nSELECT\n    COUNT(host_type) AS github_size\nFROM\n    `bigquery-public-data.libraries_io.repositories`\nWHERE\n    host_type = 'GitHub'\n\"\"\"\n\nbitbucket_size_query = \"\"\"\nSELECT\n    COUNT(host_type) AS bitbucket_size\nFROM\n    `bigquery-public-data.libraries_io.repositories`\nWHERE\n    host_type = 'Bitbucket'\n\"\"\"\n\ngitlab_size_query = \"\"\"\nSELECT\n    COUNT(host_type) AS gitlab_size\nFROM\n    `bigquery-public-data.libraries_io.repositories`\nWHERE\n    host_type = 'GitLab'\n\"\"\"\n\ngithub_size = library.query_to_pandas_safe(github_size_query)\nbitbucket_size = library.query_to_pandas_safe(bitbucket_size_query)\ngitlab_size = library.query_to_pandas_safe(gitlab_size_query)\nsize_df = pd.concat([github_size, bitbucket_size, gitlab_size], sort=False)",
      "execution_count": 11,
      "outputs": []
    },
    {
      "metadata": {
        "trusted": true
      },
      "cell_type": "code",
      "source": "size_df",
      "execution_count": 12,
      "outputs": [
        {
          "output_type": "execute_result",
          "execution_count": 12,
          "data": {
            "text/plain": "   github_size  bitbucket_size  gitlab_size\n0   30238391.0             NaN          NaN\n0          NaN        252305.0          NaN\n0          NaN             NaN     214938.0",
            "text/html": "<div>\n<style scoped>\n    .dataframe tbody tr th:only-of-type {\n        vertical-align: middle;\n    }\n\n    .dataframe tbody tr th {\n        vertical-align: top;\n    }\n\n    .dataframe thead th {\n        text-align: right;\n    }\n</style>\n<table border=\"1\" class=\"dataframe\">\n  <thead>\n    <tr style=\"text-align: right;\">\n      <th></th>\n      <th>github_size</th>\n      <th>bitbucket_size</th>\n      <th>gitlab_size</th>\n    </tr>\n  </thead>\n  <tbody>\n    <tr>\n      <td>0</td>\n      <td>30238391.0</td>\n      <td>NaN</td>\n      <td>NaN</td>\n    </tr>\n    <tr>\n      <td>0</td>\n      <td>NaN</td>\n      <td>252305.0</td>\n      <td>NaN</td>\n    </tr>\n    <tr>\n      <td>0</td>\n      <td>NaN</td>\n      <td>NaN</td>\n      <td>214938.0</td>\n    </tr>\n  </tbody>\n</table>\n</div>"
          },
          "metadata": {}
        }
      ]
    },
    {
      "metadata": {
        "trusted": true
      },
      "cell_type": "code",
      "source": "github_star_query = \"\"\"\nSELECT\n    AVG(stars_count) AS github_ave_star\nFROM\n    `bigquery-public-data.libraries_io.repositories`\nWHERE\n    host_type = 'GitHub'\n\"\"\"\n\ngitlab_star_query = \"\"\"\nSELECT\n    AVG(stars_count) AS gitlab_ave_star\nFROM\n    `bigquery-public-data.libraries_io.repositories`\nWHERE\n    host_type = 'GitLab'\n\"\"\"\n\ngithub_ave_star = library.query_to_pandas_safe(github_star_query)\ngitlab_ave_star = library.query_to_pandas_safe(gitlab_star_query)\nave_star_df = pd.concat([github_ave_star, gitlab_ave_star], sort=False)",
      "execution_count": 13,
      "outputs": []
    },
    {
      "metadata": {
        "trusted": true
      },
      "cell_type": "code",
      "source": "ave_star_df",
      "execution_count": 14,
      "outputs": [
        {
          "output_type": "execute_result",
          "execution_count": 14,
          "data": {
            "text/plain": "   github_ave_star  gitlab_ave_star\n0         3.177535              NaN\n0              NaN         0.047069",
            "text/html": "<div>\n<style scoped>\n    .dataframe tbody tr th:only-of-type {\n        vertical-align: middle;\n    }\n\n    .dataframe tbody tr th {\n        vertical-align: top;\n    }\n\n    .dataframe thead th {\n        text-align: right;\n    }\n</style>\n<table border=\"1\" class=\"dataframe\">\n  <thead>\n    <tr style=\"text-align: right;\">\n      <th></th>\n      <th>github_ave_star</th>\n      <th>gitlab_ave_star</th>\n    </tr>\n  </thead>\n  <tbody>\n    <tr>\n      <td>0</td>\n      <td>3.177535</td>\n      <td>NaN</td>\n    </tr>\n    <tr>\n      <td>0</td>\n      <td>NaN</td>\n      <td>0.047069</td>\n    </tr>\n  </tbody>\n</table>\n</div>"
          },
          "metadata": {}
        }
      ]
    },
    {
      "metadata": {
        "trusted": true
      },
      "cell_type": "code",
      "source": "github_fork_query = \"\"\"\nSELECT\n    AVG(forks_count) AS github_ave_fork\nFROM\n    `bigquery-public-data.libraries_io.repositories`\nWHERE\n    host_type = 'GitHub'\n\"\"\"\n\nbitbucket_fork_query = \"\"\"\nSELECT\n    AVG(forks_count) AS bitbucket_ave_fork\nFROM\n    `bigquery-public-data.libraries_io.repositories`\nWHERE\n    host_type = 'Bitbucket'\n\"\"\"\n\ngitlab_fork_query = \"\"\"\nSELECT\n    AVG(forks_count) AS gitlab_ave_fork\nFROM\n    `bigquery-public-data.libraries_io.repositories`\nWHERE\n    host_type = 'GitLab'\n\"\"\"\n\ngithub_ave_fork = library.query_to_pandas_safe(github_fork_query)\nbitbucket_ave_fork = library.query_to_pandas_safe(bitbucket_fork_query)\ngitlab_ave_fork = library.query_to_pandas_safe(gitlab_fork_query)\nave_fork_df = pd.concat([github_ave_fork, bitbucket_ave_fork,gitlab_ave_fork], sort=False)",
      "execution_count": 15,
      "outputs": []
    },
    {
      "metadata": {
        "trusted": true
      },
      "cell_type": "code",
      "source": "ave_fork_df",
      "execution_count": 16,
      "outputs": [
        {
          "output_type": "execute_result",
          "execution_count": 16,
          "data": {
            "text/plain": "   github_ave_fork  bitbucket_ave_fork  gitlab_ave_fork\n0         0.961897                 NaN              NaN\n0              NaN             0.29785              NaN\n0              NaN                 NaN         0.044776",
            "text/html": "<div>\n<style scoped>\n    .dataframe tbody tr th:only-of-type {\n        vertical-align: middle;\n    }\n\n    .dataframe tbody tr th {\n        vertical-align: top;\n    }\n\n    .dataframe thead th {\n        text-align: right;\n    }\n</style>\n<table border=\"1\" class=\"dataframe\">\n  <thead>\n    <tr style=\"text-align: right;\">\n      <th></th>\n      <th>github_ave_fork</th>\n      <th>bitbucket_ave_fork</th>\n      <th>gitlab_ave_fork</th>\n    </tr>\n  </thead>\n  <tbody>\n    <tr>\n      <td>0</td>\n      <td>0.961897</td>\n      <td>NaN</td>\n      <td>NaN</td>\n    </tr>\n    <tr>\n      <td>0</td>\n      <td>NaN</td>\n      <td>0.29785</td>\n      <td>NaN</td>\n    </tr>\n    <tr>\n      <td>0</td>\n      <td>NaN</td>\n      <td>NaN</td>\n      <td>0.044776</td>\n    </tr>\n  </tbody>\n</table>\n</div>"
          },
          "metadata": {}
        }
      ]
    },
    {
      "metadata": {
        "trusted": true
      },
      "cell_type": "code",
      "source": "",
      "execution_count": null,
      "outputs": []
    }
  ],
  "metadata": {
    "kernelspec": {
      "name": "python3",
      "display_name": "Python 3",
      "language": "python"
    },
    "language_info": {
      "pygments_lexer": "ipython3",
      "nbconvert_exporter": "python",
      "version": "3.6.4",
      "file_extension": ".py",
      "codemirror_mode": {
        "name": "ipython",
        "version": 3
      },
      "name": "python",
      "mimetype": "text/x-python"
    }
  },
  "nbformat": 4,
  "nbformat_minor": 1
}